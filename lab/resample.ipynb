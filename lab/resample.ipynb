{
 "cells": [
  {
   "cell_type": "code",
   "execution_count": null,
   "id": "007f5ef0",
   "metadata": {},
   "outputs": [],
   "source": [
    "import pymysql\n",
    "import os \n",
    "from dotenv import load_dotenv\n",
    "\n",
    "load_dotenv()\n",
    "\n",
    "conn = pymysql.connect(\n",
    "\n",
    "host=os.getenv(\"MYSQL_HOST\"),       \n",
    "user=os.getenv(\"MYSQL_USER_NAME\"),\n",
    "password=os.getenv(\"MYSQL_USER_PASSWORD\"),\n",
    "db=os.getenv(\"MYSQL_DATABASE\"),\n",
    "port=int(os.getenv(\"MYSQL_PORT\")),\n",
    "\n",
    "charset='utf8mb4',\n",
    "cursorclass=pymysql.cursors.DictCursor\n",
    ")"
   ]
  },
  {
   "cell_type": "code",
   "execution_count": 3,
   "id": "a9969341",
   "metadata": {},
   "outputs": [],
   "source": [
    "query = \"\"\"\n",
    "SELECT *\n",
    "FROM menstable_test2;\n",
    "\"\"\"\n",
    "\n",
    "with conn.cursor() as cursor:\n",
    "    cursor.execute(query)\n",
    "    result = cursor.fetchall()"
   ]
  },
  {
   "cell_type": "code",
   "execution_count": 5,
   "id": "6ee4d349",
   "metadata": {},
   "outputs": [
    {
     "name": "stdout",
     "output_type": "stream",
     "text": [
      "<class 'pandas.core.frame.DataFrame'>\n",
      "RangeIndex: 31302 entries, 0 to 31301\n",
      "Data columns (total 16 columns):\n",
      " #   Column         Non-Null Count  Dtype         \n",
      "---  ------         --------------  -----         \n",
      " 0   idx            31302 non-null  int64         \n",
      " 1   style          31302 non-null  object        \n",
      " 2   season         31302 non-null  object        \n",
      " 3   fit            31302 non-null  object        \n",
      " 4   color          31302 non-null  object        \n",
      " 5   goods_name     31302 non-null  object        \n",
      " 6   thumbnail_url  31302 non-null  object        \n",
      " 7   is_soldout     31302 non-null  int64         \n",
      " 8   goods_url      31302 non-null  object        \n",
      " 9   brand          31302 non-null  object        \n",
      " 10  normal_price   31302 non-null  int64         \n",
      " 11  price          31302 non-null  int64         \n",
      " 12  main_category  31302 non-null  object        \n",
      " 13  sub_category   31302 non-null  object        \n",
      " 14  created_at     31302 non-null  datetime64[ns]\n",
      " 15  updated_at     31302 non-null  datetime64[ns]\n",
      "dtypes: datetime64[ns](2), int64(4), object(10)\n",
      "memory usage: 3.8+ MB\n"
     ]
    }
   ],
   "source": [
    "import pandas as pd \n",
    "\n",
    "data = pd.DataFrame(result)\n",
    "\n",
    "data.info()"
   ]
  },
  {
   "cell_type": "code",
   "execution_count": 6,
   "id": "44bd590a",
   "metadata": {},
   "outputs": [],
   "source": [
    "# s3 버킷 \n",
    "\n",
    "import boto3 \n",
    "from botocore.exceptions import ClientError\n",
    "\n",
    "service_name = os.getenv(\"service_name\")\n",
    "endpoint_url = os.getenv(\"endpoint_url\")\n",
    "region_name = os.getenv(\"region_name\")\n",
    "access_key = os.getenv(\"access_key\")\n",
    "secret_key = os.getenv(\"secret_key\")\n",
    "\n",
    "s3 = boto3.client(service_name, endpoint_url=endpoint_url, aws_access_key_id=access_key,\n",
    "                  aws_secret_access_key=secret_key,\n",
    "                  config=boto3.session.Config(signature_version=\"s3v4\"))"
   ]
  },
  {
   "cell_type": "code",
   "execution_count": 62,
   "id": "47453edf",
   "metadata": {},
   "outputs": [],
   "source": [
    "import boto3\n",
    "\n",
    "bucket_name = \"web-assets-prod\"\n",
    "prefix = \"clothes/\"\n",
    "\n",
    "paginator = s3.get_paginator(\"list_objects_v2\")\n",
    "page_iterator = paginator.paginate(Bucket=bucket_name, Prefix=prefix)\n",
    "\n",
    "all_keys = []\n",
    "\n",
    "for page in page_iterator:\n",
    "    contents = page.get(\"Contents\", [])\n",
    "    for obj in contents:\n",
    "        all_keys.append(obj[\"Key\"])\n"
   ]
  },
  {
   "cell_type": "code",
   "execution_count": 64,
   "id": "304d541d",
   "metadata": {},
   "outputs": [
    {
     "data": {
      "text/plain": [
       "25977"
      ]
     },
     "execution_count": 64,
     "metadata": {},
     "output_type": "execute_result"
    }
   ],
   "source": [
    "len(all_keys)"
   ]
  },
  {
   "cell_type": "code",
   "execution_count": 3,
   "id": "bec68a05",
   "metadata": {},
   "outputs": [
    {
     "ename": "NameError",
     "evalue": "name 'all_keys' is not defined",
     "output_type": "error",
     "traceback": [
      "\u001b[1;31m---------------------------------------------------------------------------\u001b[0m",
      "\u001b[1;31mNameError\u001b[0m                                 Traceback (most recent call last)",
      "Cell \u001b[1;32mIn[3], line 1\u001b[0m\n\u001b[1;32m----> 1\u001b[0m \u001b[43mall_keys\u001b[49m[:\u001b[38;5;241m-\u001b[39m\u001b[38;5;241m1\u001b[39m]\n",
      "\u001b[1;31mNameError\u001b[0m: name 'all_keys' is not defined"
     ]
    }
   ],
   "source": [
    "all_keys[:-1]"
   ]
  },
  {
   "cell_type": "code",
   "execution_count": null,
   "id": "97cdb283",
   "metadata": {},
   "outputs": [
    {
     "ename": "AttributeError",
     "evalue": "'list' object has no attribute 'get'",
     "output_type": "error",
     "traceback": [
      "\u001b[1;31m---------------------------------------------------------------------------\u001b[0m",
      "\u001b[1;31mAttributeError\u001b[0m                            Traceback (most recent call last)",
      "Cell \u001b[1;32mIn[63], line 1\u001b[0m\n\u001b[1;32m----> 1\u001b[0m s3_keys \u001b[38;5;241m=\u001b[39m [obj[\u001b[38;5;124m\"\u001b[39m\u001b[38;5;124mKey\u001b[39m\u001b[38;5;124m\"\u001b[39m] \u001b[38;5;28;01mfor\u001b[39;00m obj \u001b[38;5;129;01min\u001b[39;00m \u001b[43mall_keys\u001b[49m\u001b[38;5;241;43m.\u001b[39;49m\u001b[43mget\u001b[49m(\u001b[38;5;124m\"\u001b[39m\u001b[38;5;124mContents\u001b[39m\u001b[38;5;124m\"\u001b[39m, [])]\n",
      "\u001b[1;31mAttributeError\u001b[0m: 'list' object has no attribute 'get'"
     ]
    }
   ],
   "source": [
    "s3_keys = [obj[\"Key\"] for obj in all_keys.get(\"Contents\", [])]"
   ]
  },
  {
   "cell_type": "code",
   "execution_count": 61,
   "id": "e703ca55",
   "metadata": {},
   "outputs": [
    {
     "data": {
      "text/plain": [
       "999"
      ]
     },
     "execution_count": 61,
     "metadata": {},
     "output_type": "execute_result"
    }
   ],
   "source": [
    "len(s3_keys[1:])"
   ]
  },
  {
   "cell_type": "code",
   "execution_count": null,
   "id": "fb7969af",
   "metadata": {},
   "outputs": [],
   "source": [
    "s3_map = {\n",
    "    key.split(\"/\")[-1].replace(\".jpg\", \"\"): key \n",
    "    for key in all_keys[1:]\n",
    "}"
   ]
  },
  {
   "cell_type": "code",
   "execution_count": 75,
   "id": "208d8f06",
   "metadata": {},
   "outputs": [
    {
     "data": {
      "text/plain": [
       "25976"
      ]
     },
     "execution_count": 75,
     "metadata": {},
     "output_type": "execute_result"
    }
   ],
   "source": [
    "len(s3_map)"
   ]
  },
  {
   "cell_type": "code",
   "execution_count": 76,
   "id": "5aaccdba",
   "metadata": {},
   "outputs": [],
   "source": [
    "def extract_id(url: str) -> str:\n",
    "    try:\n",
    "        return url.split(\"/\")[6]\n",
    "    except IndexError:\n",
    "        return \"\""
   ]
  },
  {
   "cell_type": "code",
   "execution_count": 4,
   "id": "a237a0bd",
   "metadata": {},
   "outputs": [
    {
     "ename": "NameError",
     "evalue": "name 's3_map' is not defined",
     "output_type": "error",
     "traceback": [
      "\u001b[1;31m---------------------------------------------------------------------------\u001b[0m",
      "\u001b[1;31mNameError\u001b[0m                                 Traceback (most recent call last)",
      "Cell \u001b[1;32mIn[4], line 1\u001b[0m\n\u001b[1;32m----> 1\u001b[0m \u001b[43ms3_map\u001b[49m\n",
      "\u001b[1;31mNameError\u001b[0m: name 's3_map' is not defined"
     ]
    }
   ],
   "source": [
    "s3_map"
   ]
  },
  {
   "cell_type": "code",
   "execution_count": 77,
   "id": "d3d95543",
   "metadata": {},
   "outputs": [],
   "source": [
    "data[\"image_id\"] = data[\"thumbnail_url\"].apply(lambda x: str(x).split(\"/\")[6].strip())\n",
    "data[\"s3_path\"] = data[\"image_id\"].map(s3_map)\n"
   ]
  },
  {
   "cell_type": "code",
   "execution_count": 5,
   "id": "1d0b24ee",
   "metadata": {},
   "outputs": [
    {
     "ename": "NameError",
     "evalue": "name 's3_map' is not defined",
     "output_type": "error",
     "traceback": [
      "\u001b[1;31m---------------------------------------------------------------------------\u001b[0m",
      "\u001b[1;31mNameError\u001b[0m                                 Traceback (most recent call last)",
      "Cell \u001b[1;32mIn[5], line 1\u001b[0m\n\u001b[1;32m----> 1\u001b[0m \u001b[38;5;28;01mfor\u001b[39;00m key \u001b[38;5;129;01min\u001b[39;00m \u001b[38;5;28mlist\u001b[39m(\u001b[43ms3_map\u001b[49m\u001b[38;5;241m.\u001b[39mkeys())[:\u001b[38;5;241m10\u001b[39m]:\n\u001b[0;32m      2\u001b[0m     \u001b[38;5;28mprint\u001b[39m(\u001b[38;5;28mrepr\u001b[39m(key))\n",
      "\u001b[1;31mNameError\u001b[0m: name 's3_map' is not defined"
     ]
    }
   ],
   "source": [
    "for key in list(s3_map.keys())[:10]:\n",
    "    print(repr(key))\n"
   ]
  },
  {
   "cell_type": "code",
   "execution_count": 78,
   "id": "94563d2f",
   "metadata": {},
   "outputs": [
    {
     "name": "stdout",
     "output_type": "stream",
     "text": [
      "테스트 ID: 4471126\n",
      "s3_map에 존재? True\n"
     ]
    }
   ],
   "source": [
    "test_id = data[\"image_id\"].iloc[0]\n",
    "print(\"테스트 ID:\", test_id)\n",
    "print(\"s3_map에 존재?\", test_id in s3_map)"
   ]
  },
  {
   "cell_type": "code",
   "execution_count": 104,
   "id": "8d81f4b8",
   "metadata": {},
   "outputs": [
    {
     "name": "stdout",
     "output_type": "stream",
     "text": [
      "mens_table_refine테이블로 업로드 완료!\n"
     ]
    }
   ],
   "source": [
    "from sqlalchemy import create_engine\n",
    "import os\n",
    "from dotenv import load_dotenv\n",
    "\n",
    "load_dotenv()\n",
    "\n",
    "# SQLAlchemy 엔진 생성\n",
    "engine = create_engine(\n",
    "    f\"mysql+pymysql://{os.getenv('MYSQL_USER_NAME')}:{os.getenv('MYSQL_USER_PASSWORD')}@{os.getenv('MYSQL_HOST')}:{os.getenv('MYSQL_PORT')}/{os.getenv('MYSQL_DATABASE')}\"\n",
    ")\n",
    "\n",
    "# DataFrame을 새 테이블에 업로드\n",
    "data.to_sql(\n",
    "    name=\"mens_table_refine\",  # 새 테이블명\n",
    "    con=engine,\n",
    "    index=False,\n",
    "    if_exists=\"replace\"      # 없으면 생성, 있으면 덮어쓰기 (\"append\"로 바꾸면 추가)\n",
    ")\n",
    "\n",
    "print(\"mens_table_refine테이블로 업로드 완료!\")\n"
   ]
  },
  {
   "cell_type": "code",
   "execution_count": 94,
   "id": "c874d83a",
   "metadata": {},
   "outputs": [],
   "source": [
    "def validate_match(row):\n",
    "    if pd.isna(row[\"s3_path\"]):\n",
    "        return False\n",
    "    return row[\"image_id\"] in row[\"s3_path\"]\n",
    "\n",
    "data[\"match\"] = data.apply(validate_match, axis=1)\n"
   ]
  },
  {
   "cell_type": "code",
   "execution_count": 98,
   "id": "34e04f61",
   "metadata": {},
   "outputs": [
    {
     "data": {
      "text/plain": [
       "0        True\n",
       "1        True\n",
       "2        True\n",
       "3        True\n",
       "4        True\n",
       "         ... \n",
       "31297    True\n",
       "31298    True\n",
       "31299    True\n",
       "31300    True\n",
       "31301    True\n",
       "Name: match, Length: 31302, dtype: bool"
      ]
     },
     "execution_count": 98,
     "metadata": {},
     "output_type": "execute_result"
    }
   ],
   "source": [
    "data[\"match\"]"
   ]
  },
  {
   "cell_type": "code",
   "execution_count": null,
   "id": "d90fce98",
   "metadata": {},
   "outputs": [],
   "source": [
    "data[\"s3_path\"] = data[\"s3_path\"].apply(lambda x : \"https://kr.object.iwinv.kr/\" + x)[0]"
   ]
  },
  {
   "cell_type": "code",
   "execution_count": 1,
   "id": "737bdbe4",
   "metadata": {},
   "outputs": [
    {
     "ename": "NameError",
     "evalue": "name 'data' is not defined",
     "output_type": "error",
     "traceback": [
      "\u001b[1;31m---------------------------------------------------------------------------\u001b[0m",
      "\u001b[1;31mNameError\u001b[0m                                 Traceback (most recent call last)",
      "Cell \u001b[1;32mIn[1], line 1\u001b[0m\n\u001b[1;32m----> 1\u001b[0m \u001b[43mdata\u001b[49m\n",
      "\u001b[1;31mNameError\u001b[0m: name 'data' is not defined"
     ]
    }
   ],
   "source": [
    "data"
   ]
  },
  {
   "cell_type": "code",
   "execution_count": 105,
   "id": "a76bfea6",
   "metadata": {},
   "outputs": [],
   "source": [
    "import pandas as pd\n",
    "\n",
    "query = \"SELECT * FROM shoes_refine;\"\n",
    "df = pd.read_sql(query, con=engine)"
   ]
  },
  {
   "cell_type": "code",
   "execution_count": null,
   "id": "65058daa",
   "metadata": {},
   "outputs": [],
   "source": [
    "df[\"s3_path\"] = df[\"s3_path\"].apply(lambda x : \"https://kr.object.iwinv.kr/\" + x)"
   ]
  },
  {
   "cell_type": "code",
   "execution_count": 2,
   "id": "d526689e",
   "metadata": {},
   "outputs": [
    {
     "ename": "NameError",
     "evalue": "name 'df' is not defined",
     "output_type": "error",
     "traceback": [
      "\u001b[1;31m---------------------------------------------------------------------------\u001b[0m",
      "\u001b[1;31mNameError\u001b[0m                                 Traceback (most recent call last)",
      "Cell \u001b[1;32mIn[2], line 1\u001b[0m\n\u001b[1;32m----> 1\u001b[0m \u001b[43mdf\u001b[49m\n",
      "\u001b[1;31mNameError\u001b[0m: name 'df' is not defined"
     ]
    }
   ],
   "source": [
    "df"
   ]
  },
  {
   "cell_type": "code",
   "execution_count": 112,
   "id": "a0a982db",
   "metadata": {},
   "outputs": [
    {
     "data": {
      "text/plain": [
       "2978"
      ]
     },
     "execution_count": 112,
     "metadata": {},
     "output_type": "execute_result"
    }
   ],
   "source": [
    "df.to_sql(\n",
    "    name=\"shoes_refine\",  # 기존 테이블 덮어쓰기 or 새로 저장\n",
    "    con=engine,\n",
    "    index=False,\n",
    "    if_exists=\"replace\"   # \"replace\": 기존 테이블 삭제 후 저장 / \"append\": 데이터 추가\n",
    ")\n"
   ]
  }
 ],
 "metadata": {
  "kernelspec": {
   "display_name": "venv",
   "language": "python",
   "name": "python3"
  },
  "language_info": {
   "codemirror_mode": {
    "name": "ipython",
    "version": 3
   },
   "file_extension": ".py",
   "mimetype": "text/x-python",
   "name": "python",
   "nbconvert_exporter": "python",
   "pygments_lexer": "ipython3",
   "version": "3.10.0"
  }
 },
 "nbformat": 4,
 "nbformat_minor": 5
}

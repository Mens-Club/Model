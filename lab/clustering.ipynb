{
 "cells": [
  {
   "cell_type": "code",
   "execution_count": 2,
   "id": "17fc3ad5",
   "metadata": {},
   "outputs": [
    {
     "name": "stdout",
     "output_type": "stream",
     "text": [
      "Collecting opencv-python\n",
      "  Using cached opencv_python-4.11.0.86-cp37-abi3-win_amd64.whl.metadata (20 kB)\n",
      "Requirement already satisfied: numpy>=1.21.2 in c:\\users\\user\\desktop\\model\\venv\\lib\\site-packages (from opencv-python) (2.2.4)\n",
      "Using cached opencv_python-4.11.0.86-cp37-abi3-win_amd64.whl (39.5 MB)\n",
      "Installing collected packages: opencv-python\n",
      "Successfully installed opencv-python-4.11.0.86\n"
     ]
    }
   ],
   "source": [
    "! pip install opencv-python"
   ]
  },
  {
   "cell_type": "code",
   "execution_count": 92,
   "id": "f86acd70",
   "metadata": {},
   "outputs": [],
   "source": [
    "import cv2\n",
    "import pymysql \n",
    "import os \n",
    "from dotenv import load_dotenv\n",
    "\n",
    "load_dotenv()\n",
    "\n",
    "conn = pymysql.connect(\n",
    "\n",
    "host=os.getenv(\"MYSQL_HOST\"),       \n",
    "user=os.getenv(\"MYSQL_USER_NAME\"),\n",
    "password=os.getenv(\"MYSQL_USER_PASSWORD\"),\n",
    "db=os.getenv(\"MYSQL_DATABASE\"),\n",
    "port=int(os.getenv(\"MYSQL_PORT\")),\n",
    "\n",
    "charset='utf8mb4',\n",
    "cursorclass=pymysql.cursors.DictCursor\n",
    "\n",
    ")"
   ]
  },
  {
   "cell_type": "code",
   "execution_count": 103,
   "id": "4f7ba4fa",
   "metadata": {},
   "outputs": [],
   "source": [
    "query = \"\"\"\n",
    "SELECT * FROM menstable_test2;\n",
    "\"\"\"\n",
    "\n",
    "with conn.cursor() as cursor:\n",
    "    cursor.execute(query)\n",
    "    result = cursor.fetchall()\n"
   ]
  },
  {
   "cell_type": "code",
   "execution_count": 72,
   "id": "dafc0a72",
   "metadata": {},
   "outputs": [
    {
     "data": {
      "text/plain": [
       "31302"
      ]
     },
     "execution_count": 72,
     "metadata": {},
     "output_type": "execute_result"
    }
   ],
   "source": [
    "import requests\n",
    "from io import BytesIO\n",
    "from PIL import Image\n",
    "from collections import Counter\n",
    "\n",
    "len(result)"
   ]
  },
  {
   "cell_type": "code",
   "execution_count": null,
   "id": "b271644f",
   "metadata": {},
   "outputs": [],
   "source": [
    "# 이미지 로딩 \n",
    "import numpy as np\n",
    "\n",
    "def load_image_from_url(url: str):\n",
    "    response = requests.get(url, timeout=5)\n",
    "    response.raise_for_status()\n",
    "    image = Image.open(BytesIO(response.content)).convert(\"RGB\")\n",
    "    return cv2.cvtColor(np.array(image), cv2.COLOR_RGB2BGR)\n"
   ]
  },
  {
   "cell_type": "code",
   "execution_count": 46,
   "id": "600df74a",
   "metadata": {},
   "outputs": [],
   "source": [
    "def is_white(rgb, threshold=235):\n",
    "    return all(c >= threshold for c in rgb) and max(rgb) - min(rgb) <= 10\n",
    "\n",
    "# 같은 색상 판단 기준"
   ]
  },
  {
   "cell_type": "code",
   "execution_count": 104,
   "id": "e4c775ff",
   "metadata": {},
   "outputs": [],
   "source": [
    "import pandas as pd\n",
    "\n",
    "df = pd.DataFrame(result)"
   ]
  },
  {
   "cell_type": "code",
   "execution_count": 16,
   "id": "007ae1cb",
   "metadata": {},
   "outputs": [],
   "source": [
    "df\n",
    "\n",
    "def validate_white_color(row):\n",
    "    try:\n",
    "        img = load_image_from_url(row[\"thumbnail_url\"])\n",
    "        dominant_colors = extract_dominant_colors_cv(img)\n",
    "        print(f\"[{row['goods_name']}] Dominant: {dominant_colors[0]}\")\n",
    "        return is_white(dominant_colors[0][\"rgb\"])\n",
    "    except Exception as e:\n",
    "        print(f\"⚠️ 오류 ({row['goods_name']}): {e}\")\n",
    "        return False"
   ]
  },
  {
   "cell_type": "code",
   "execution_count": 2,
   "id": "b7015abd",
   "metadata": {},
   "outputs": [
    {
     "ename": "NameError",
     "evalue": "name 'df' is not defined",
     "output_type": "error",
     "traceback": [
      "\u001b[1;31m---------------------------------------------------------------------------\u001b[0m",
      "\u001b[1;31mNameError\u001b[0m                                 Traceback (most recent call last)",
      "Cell \u001b[1;32mIn[2], line 1\u001b[0m\n\u001b[1;32m----> 1\u001b[0m \u001b[43mdf\u001b[49m[\u001b[38;5;124m\"\u001b[39m\u001b[38;5;124mcolor\u001b[39m\u001b[38;5;124m\"\u001b[39m]\u001b[38;5;241m.\u001b[39munique()\u001b[38;5;241m.\u001b[39mtolist()\n",
      "\u001b[1;31mNameError\u001b[0m: name 'df' is not defined"
     ]
    }
   ],
   "source": [
    "df[\"color\"].unique().tolist()"
   ]
  },
  {
   "cell_type": "code",
   "execution_count": 1,
   "id": "5bf366a6",
   "metadata": {},
   "outputs": [
    {
     "ename": "NameError",
     "evalue": "name 'df' is not defined",
     "output_type": "error",
     "traceback": [
      "\u001b[1;31m---------------------------------------------------------------------------\u001b[0m",
      "\u001b[1;31mNameError\u001b[0m                                 Traceback (most recent call last)",
      "Cell \u001b[1;32mIn[1], line 1\u001b[0m\n\u001b[1;32m----> 1\u001b[0m df[\u001b[38;5;124m\"\u001b[39m\u001b[38;5;124mis_true_white\u001b[39m\u001b[38;5;124m\"\u001b[39m] \u001b[38;5;241m=\u001b[39m \u001b[43mdf\u001b[49m\u001b[38;5;241m.\u001b[39mapply(validate_white_color, axis\u001b[38;5;241m=\u001b[39m\u001b[38;5;241m1\u001b[39m)\n",
      "\u001b[1;31mNameError\u001b[0m: name 'df' is not defined"
     ]
    }
   ],
   "source": [
    "df[\"is_true_white\"] = df.apply(validate_white_color, axis=1)"
   ]
  },
  {
   "cell_type": "code",
   "execution_count": 3,
   "id": "8e537cda",
   "metadata": {},
   "outputs": [
    {
     "ename": "NameError",
     "evalue": "name 'df' is not defined",
     "output_type": "error",
     "traceback": [
      "\u001b[1;31m---------------------------------------------------------------------------\u001b[0m",
      "\u001b[1;31mNameError\u001b[0m                                 Traceback (most recent call last)",
      "Cell \u001b[1;32mIn[3], line 1\u001b[0m\n\u001b[1;32m----> 1\u001b[0m \u001b[43mdf\u001b[49m\u001b[38;5;241m.\u001b[39mloc[df[\u001b[38;5;124m\"\u001b[39m\u001b[38;5;124mis_true_white\u001b[39m\u001b[38;5;124m\"\u001b[39m] \u001b[38;5;241m==\u001b[39m \u001b[38;5;28;01mTrue\u001b[39;00m]\u001b[38;5;241m.\u001b[39mreset_index(drop\u001b[38;5;241m=\u001b[39m\u001b[38;5;28;01mTrue\u001b[39;00m)\u001b[38;5;241m.\u001b[39mhead()\n",
      "\u001b[1;31mNameError\u001b[0m: name 'df' is not defined"
     ]
    }
   ],
   "source": [
    "df.loc[df[\"is_true_white\"] == True].reset_index(drop=True).head()"
   ]
  },
  {
   "cell_type": "code",
   "execution_count": null,
   "id": "e3ac4be0",
   "metadata": {},
   "outputs": [],
   "source": [
    "def extract_dominant_rgb(row):\n",
    "    try:\n",
    "        img = load_image_from_url(row[\"thumbnail_url\"])  # 썸네일에서 이미지 요청\n",
    "        dominant_colors = extract_dominant_colors_cv(img, k=3)  # k는 적절히 조절\n",
    "        return dominant_colors[0][\"rgb\"]  # 가장 높은 비중의 색상만 추출\n",
    "    except Exception as e:\n",
    "        print(f\"⚠️ {row['goods_name']} - 이미지 로드 실패: {e}\")\n",
    "        return None\n"
   ]
  },
  {
   "cell_type": "code",
   "execution_count": 4,
   "id": "30a8fb8b",
   "metadata": {},
   "outputs": [
    {
     "ename": "NameError",
     "evalue": "name 'df' is not defined",
     "output_type": "error",
     "traceback": [
      "\u001b[1;31m---------------------------------------------------------------------------\u001b[0m",
      "\u001b[1;31mNameError\u001b[0m                                 Traceback (most recent call last)",
      "Cell \u001b[1;32mIn[4], line 6\u001b[0m\n\u001b[0;32m      3\u001b[0m \u001b[38;5;66;03m# 상품별 dominant color 수집\u001b[39;00m\n\u001b[0;32m      4\u001b[0m color_pool \u001b[38;5;241m=\u001b[39m defaultdict(\u001b[38;5;28mlist\u001b[39m)\n\u001b[1;32m----> 6\u001b[0m \u001b[38;5;28;01mfor\u001b[39;00m _, row \u001b[38;5;129;01min\u001b[39;00m \u001b[43mdf\u001b[49m\u001b[38;5;241m.\u001b[39miterrows():\n\u001b[0;32m      7\u001b[0m     img \u001b[38;5;241m=\u001b[39m load_image_from_url(row[\u001b[38;5;124m\"\u001b[39m\u001b[38;5;124mthumbnail_url\u001b[39m\u001b[38;5;124m\"\u001b[39m])\n\u001b[0;32m      8\u001b[0m     dominant \u001b[38;5;241m=\u001b[39m extract_dominant_colors_cv(img, k\u001b[38;5;241m=\u001b[39m\u001b[38;5;241m1\u001b[39m)[\u001b[38;5;241m0\u001b[39m][\u001b[38;5;124m\"\u001b[39m\u001b[38;5;124mrgb\u001b[39m\u001b[38;5;124m\"\u001b[39m]\n",
      "\u001b[1;31mNameError\u001b[0m: name 'df' is not defined"
     ]
    }
   ],
   "source": [
    "from collections import defaultdict\n",
    "\n",
    "# 상품별 dominant color 수집\n",
    "color_pool = defaultdict(list)\n",
    "\n",
    "for _, row in df.iterrows():\n",
    "    img = load_image_from_url(row[\"thumbnail_url\"])\n",
    "    dominant = extract_dominant_colors_cv(img, k=1)[0][\"rgb\"]\n",
    "    color_pool[row[\"color\"]].append(dominant)\n",
    "\n",
    "# 평균 RGB 계산\n",
    "for color_name, rgbs in color_pool.items():\n",
    "    avg_rgb = tuple(int(np.mean([rgb[i] for rgb in rgbs])) for i in range(3))\n",
    "    print(f\"{color_name}: {avg_rgb}\")\n"
   ]
  },
  {
   "cell_type": "code",
   "execution_count": 81,
   "id": "d20b70c6",
   "metadata": {},
   "outputs": [],
   "source": [
    "from sklearn.cluster import KMeans\n",
    "import numpy as np\n",
    "\n",
    "def cluster_and_flag(df, color_label, k=2):\n",
    "    # 해당 컬러 라벨만 추출\n",
    "    sub = df[df[\"color\"] == color_label].copy()\n",
    "    if sub.empty:\n",
    "        return df  # 라벨이 없는 경우 패스\n",
    "\n",
    "    rgb_array = np.array(sub[\"dominant_rgb\"].tolist())\n",
    "\n",
    "    kmeans = KMeans(n_clusters=k, random_state=42)\n",
    "    labels = kmeans.fit_predict(rgb_array)\n",
    "\n",
    "    # 주로 몰려있는 중심(0 또는 1)을 선택: 가장 많은 클러스터\n",
    "    counts = np.bincount(labels)\n",
    "    main_cluster = np.argmax(counts)\n",
    "\n",
    "    # True/False 부여\n",
    "    df[f\"is_true_{color_label}\"] = False\n",
    "    df.loc[sub.index, f\"is_true_{color_label}\"] = (labels == main_cluster)\n",
    "\n",
    "    return df\n"
   ]
  }
 ],
 "metadata": {
  "kernelspec": {
   "display_name": "venv",
   "language": "python",
   "name": "python3"
  },
  "language_info": {
   "codemirror_mode": {
    "name": "ipython",
    "version": 3
   },
   "file_extension": ".py",
   "mimetype": "text/x-python",
   "name": "python",
   "nbconvert_exporter": "python",
   "pygments_lexer": "ipython3",
   "version": "3.10.0"
  }
 },
 "nbformat": 4,
 "nbformat_minor": 5
}
